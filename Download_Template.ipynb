{
 "cells": [
  {
   "cell_type": "markdown",
   "metadata": {
    "colab": {},
    "colab_type": "code",
    "id": "kVj-gt8ZlwTv"
   },
   "source": [
    "# To do \n",
    "Each region has a different amount of slots in each tier\n",
    "205 responses per page so divide slots/page to get amount of requests \n",
    "if its not can use modulus operation to add one more page if the number has decimals\n",
    "\n"
   ]
  },
  {
   "cell_type": "code",
   "execution_count": null,
   "metadata": {},
   "outputs": [],
   "source": [
    "def stats(queue):\n",
    "    \"\"\" Takes rank queue and saves information of players returns list of seperate stats\"\"\"\n",
    "    streak,summoner_name,points,veteran,wins,losses,games,win_percent=[],[],[],[],[],[],[],[]\n",
    "    for summoner in queue:\n",
    "        summoner_name.append(summoner['summonerName'])\n",
    "        streak.append(summoner['hotStreak'])\n",
    "        points.append(summoner['leaguePoints'])\n",
    "        veteran.append(summoner['veteran'])\n",
    "        win_percent.append(summoner['wins']/(summoner['losses']+summoner['wins'])*100)\n",
    "        losses.append(summoner['losses'])\n",
    "        wins.append(summoner['wins'])\n",
    "        games.append(summoner['losses']+summoner['wins'])\n",
    "    return streak,summoner_name,points,veteran,wins,losses,games,win_percent\n",
    "#loop through challenger pages  compile dict of all challenger players make function\n",
    "def get_players(url,pages):\n",
    "  \"\"\"\n",
    "  accept api url as a string\n",
    "  and number of pages as an int\n",
    "  loops through pages collects all players and returns a list\n",
    "  \"\"\"\n",
    "  dict_complete=[] #list created by combining all pages\n",
    "  for x in range(pages):\n",
    "    page=str(x+1)\n",
    "    new_url=url+page\n",
    "    print(new_url) #for logging\n",
    "    r=requests.get(new_url,headers=headers)\n",
    "    time.sleep(1.2)#avoid rate limit\n",
    "    if r.status_code == 200:\n",
    "      dict_work = r.json() #data on individual page\n",
    "      dict_complete+=dict_work\n",
    "  return dict_complete\n",
    "import requests\n",
    "import matplotlib.pyplot as plt\n",
    "import time\n",
    "from datetime import datetime\n",
    "import pandas as pd"
   ]
  },
  {
   "cell_type": "code",
   "execution_count": null,
   "metadata": {
    "colab": {},
    "colab_type": "code",
    "id": "TDLsDwUwlwT5"
   },
   "outputs": [],
   "source": [
    "#Each region has a prefix\n",
    "prefix ='insert region prefix here ' \n",
    "Token = 'insert riot api token here'\n",
    "\n",
    "challenger_url = 'https://'+prefix+'.api.riotgames.com/lol/league-exp/v4/entries/RANKED_SOLO_5x5/CHALLENGER/I?page='\n",
    "grandmaster_url = 'https://'+prefix+'.api.riotgames.com/lol/league-exp/v4/entries/RANKED_SOLO_5x5/GRANDMASTER/I?page='\n",
    "master_url = 'https://'+prefix+'.api.riotgames.com/lol/league-exp/v4/entries/RANKED_SOLO_5x5/MASTER/I?page='\n",
    "headers={\n",
    "    \"Origin\": \"https://developer.riotgames.com\",\n",
    "    \"Accept-Charset\": \"application/x-www-form-urlencoded; charset=UTF-8\",\n",
    "    \"X-Riot-Token\": Token,\n",
    "    \"Accept-Language\": \"en-US,en;q=0.9\",\n",
    "    \"User-Agent\": \"Mozilla/5.0 (X11; Linux x86_64) AppleWebKit/537.36 (KHTML, like Gecko) Chrome/79.0.3945.130 Safari/537.36\"\n",
    "}\n"
   ]
  },
  {
   "cell_type": "code",
   "execution_count": null,
   "metadata": {},
   "outputs": [],
   "source": [
    "# for NA,EUW and KR challenger has 2 pages grandmaster 4 and maser 20\n",
    "challenger_dict=get_players(challenger_url,2)\n",
    "grandmaster_dict=get_players(grandmaster_url,4)\n",
    "master_dict=get_players(master_url,20)"
   ]
  },
  {
   "cell_type": "code",
   "execution_count": null,
   "metadata": {
    "colab": {
     "base_uri": "https://localhost:8080/",
     "height": 949
    },
    "colab_type": "code",
    "id": "1AnqGJ_1lwVV",
    "outputId": "8b115d09-0548-48eb-f4d9-c53e9cfea884"
   },
   "outputs": [],
   "source": [
    "df_challenge =pd.DataFrame(challenger_dict)\n",
    "df_grandmaster=pd.DataFrame(grandmaster_dict)\n",
    "df_master=pd.DataFrame(master_dict)\n",
    "# since concatanated dont use iloc\n",
    "tiers=pd.concat([df_challenge,df_grandmaster,df_master])"
   ]
  },
  {
   "cell_type": "code",
   "execution_count": null,
   "metadata": {
    "colab": {
     "base_uri": "https://localhost:8080/",
     "height": 35
    },
    "colab_type": "code",
    "id": "o6t8GKMKlwVd",
    "outputId": "9b1f196e-7ac5-474c-fb85-6a8beda300c7"
   },
   "outputs": [],
   "source": [
    "#loops through encrypted summoner ID and gets account ID\n",
    "summoner_account=[]\n",
    "get_account_start=time.time()\n",
    "for  summonerId in tiers.summonerId:\n",
    "    \n",
    "    url = 'https://'+prefix+'.api.riotgames.com/lol/summoner/v4/summoners/'+summonerId\n",
    "    r=requests.get(url,headers=headers)\n",
    "    if r.status_code == 200:\n",
    "        summoner =r.json()\n",
    "        summoner_account.append(summoner['accountId'])\n",
    "        \n",
    "        time.sleep(1.2)# wait so as not to exceed rate limit 100 per 2 minutes loop takes on avg .6 seconds 120/100 = 1.2 .6+.6 = 1.2 seconds \n",
    "    elif r.status_code ==503: # 503 was commmon so just send request again\n",
    "        r=requests.get(url,headers=headers)\n",
    "        summoner =r.json()\n",
    "        summoner_account.append(summoner['accountId'])\n",
    "        time.sleep(1.2)\n",
    "    else:\n",
    "        print(f\"Error summoner id:{summonerId}\\nError status code:{r.status_code}\")\n",
    "        time.sleep(1.2) \n",
    "get_account_end = time.time()\n",
    "get_account_time=get_account_end-get_account_start\n",
    "print(get_account_time)\n",
    "tiers['accountId']=summoner_account"
   ]
  },
  {
   "cell_type": "code",
   "execution_count": null,
   "metadata": {},
   "outputs": [],
   "source": [
    "# Gets recent 100 Matches using encrypted match ID checks which role is their main role\n",
    "roles=[]\n",
    "get_roles_start=time.time()\n",
    "for accountId in tiers.accountId:\n",
    "    url = 'https://'+prefix+'.api.riotgames.com/lol/match/v4/matchlists/by-account/'+accountId +'?queue=420'\n",
    "    r= requests.get(url,headers=headers)\n",
    "    if r.status_code == 200:\n",
    "        matches=r.json()\n",
    "        df=pd.DataFrame(matches['matches'])\n",
    "        top=jungle=mid=bot=support=autofill=0\n",
    "        lane={}\n",
    "        lane['Top']=len(df[df.lane=='TOP'])\n",
    "        lane['Jungle']=len(df[df.lane=='JUNGLE'])\n",
    "        lane['Mid']=len(df[df.lane=='MID'])\n",
    "  \n",
    "        lane['Bottom']=len(df[df.lane=='BOTTOM'])\n",
    "        lane['Support']=len(df[df.lane=='NONE'])\n",
    "        role = max(lane, key=lane.get)\n",
    "        roles.append(role)\n",
    "        time.sleep(1.2)\n",
    "    elif r.status_code ==503: # 503 was commmon so just send request again\n",
    "        r=requests.get(url,headers=headers)\n",
    "        matches =r.json()\n",
    "        df=pd.DataFrame(matches['matches'])\n",
    "        top=jungle=mid=bot=support=autofill=0\n",
    "        lane={}\n",
    "        lane['Top']=len(df[df.lane=='TOP'])\n",
    "        lane['Jungle']=len(df[df.lane=='JUNGLE'])\n",
    "        lane['Mid']=len(df[df.lane=='MID'])\n",
    "        lane['Bottom']=len(df[df.lane=='BOTTOM'])\n",
    "        lane['Support']=len(df[df.lane=='NONE'])\n",
    "        role = max(lane, key=lane.get)\n",
    "        roles.append(role)\n",
    "        time.sleep(1.2)\n",
    "        \n",
    "    else:\n",
    "       print(f\"For account:{accountId}\\nError status code:{r.status_code}\") \n",
    "       time.sleep(1.2)\n",
    "get_roles_end=time.time()\n",
    "get_roles_time=get_roles_end-get_roles_start\n",
    "print(get_roles_time)\n",
    " tiers['role']=roles"
   ]
  },
  {
   "cell_type": "code",
   "execution_count": null,
   "metadata": {},
   "outputs": [],
   "source": [
    "#create new data frame by dropping fluff information\n",
    "tiers_working= tiers.drop(columns=['summonerId','accountId','queueType','leagueId','rank','leaguePoints','summonerName'])"
   ]
  },
  {
   "cell_type": "code",
   "execution_count": null,
   "metadata": {},
   "outputs": [],
   "source": [
    "#calculate win rate\n",
    "tiers_working_win_percent=pd.Series(round((tiers_working['wins']/(tiers_working['wins']+tiers_working['losses']))*100,2),name='winPercent')\n",
    "tiers_working['winRate']=tiers_working_win_percent.value"
   ]
  },
  {
   "cell_type": "code",
   "execution_count": null,
   "metadata": {},
   "outputs": [],
   "source": [
    "#calculate total games played\n",
    "total_games=pd.Series(tiers_working['wins']+tiers_working['losses'])\n",
    "tiers_working['totalGames']=total_games.values"
   ]
  },
  {
   "cell_type": "code",
   "execution_count": null,
   "metadata": {
    "colab": {},
    "colab_type": "code",
    "id": "5vDkDc1EpQAu"
   },
   "outputs": [],
   "source": [
    "tiers_working_win_percent=pd.Series(round((tiers_working['wins']/(tiers_working['wins']+tiers_working['losses']))*100,2),name='winPercent')"
   ]
  },
  {
   "cell_type": "code",
   "execution_count": null,
   "metadata": {
    "colab": {
     "base_uri": "https://localhost:8080/",
     "height": 204
    },
    "colab_type": "code",
    "id": "n9y8k_edpTnZ",
    "outputId": "bf2cf336-9179-47a4-8bc2-a39027381e89"
   },
   "outputs": [],
   "source": [
    "tiers_working.head()"
   ]
  },
  {
   "cell_type": "code",
   "execution_count": null,
   "metadata": {
    "colab": {},
    "colab_type": "code",
    "id": "S0mMr9mspdc0"
   },
   "outputs": [],
   "source": [
    "tiers_working['totalGames']=total_games.values"
   ]
  },
  {
   "cell_type": "code",
   "execution_count": null,
   "metadata": {
    "colab": {},
    "colab_type": "code",
    "id": "4q6qSePClwXJ"
   },
   "outputs": [],
   "source": [
    "#Save progress\n",
    "time_now=datetime.now().strftime(\"%Y-%m-%d-%H-%M-%S\") #Save date and time\n",
    "tiers_working.to_csv(r'tiers_working_'+prefix+time_now+'.csv',index=False) #save file as csv with date and time as unique identifier\n"
   ]
  }
 ],
 "metadata": {
  "colab": {
   "collapsed_sections": [],
   "name": "KRChallengerGrandmasterMaster.ipynb",
   "provenance": []
  },
  "kernelspec": {
   "display_name": "Python 3",
   "language": "python",
   "name": "python3"
  },
  "language_info": {
   "codemirror_mode": {
    "name": "ipython",
    "version": 3
   },
   "file_extension": ".py",
   "mimetype": "text/x-python",
   "name": "python",
   "nbconvert_exporter": "python",
   "pygments_lexer": "ipython3",
   "version": "3.7.4"
  }
 },
 "nbformat": 4,
 "nbformat_minor": 4
}
